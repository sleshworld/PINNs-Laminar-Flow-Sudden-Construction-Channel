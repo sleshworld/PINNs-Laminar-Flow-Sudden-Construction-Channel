{
  "cells": [
    {
      "cell_type": "markdown",
      "source": [
        "This one: https://colab.research.google.com/drive/1qPDsg42_trAny4ys3qoh6veoRogL5U-O?usp=sharing"
      ],
      "metadata": {
        "id": "2FgY49q5z1W6"
      },
      "id": "2FgY49q5z1W6"
    },
    {
      "cell_type": "markdown",
      "source": [
        "Full one: https://colab.research.google.com/drive/11i08nuDCRhlHF0NKjtO6cfDjtOh0Va7I?usp=sharing"
      ],
      "metadata": {
        "id": "wyS9jBth0Aos"
      },
      "id": "wyS9jBth0Aos"
    },
    {
      "cell_type": "markdown",
      "source": [
        "**Paper from which the idea came from:** https://arxiv.org/pdf/2002.10558.pdf\n",
        "\n",
        "**Implementation from the paper (Tensorflow 1):** https://github.com/Raocp/PINN-laminar-flow"
      ],
      "metadata": {
        "id": "b0XeN9Fpz6ok"
      },
      "id": "b0XeN9Fpz6ok"
    },
    {
      "cell_type": "markdown",
      "metadata": {
        "id": "7b293368"
      },
      "source": [
        "## Neural Network Classes"
      ],
      "id": "7b293368"
    },
    {
      "cell_type": "code",
      "execution_count": null,
      "metadata": {
        "id": "_W6EPITRCol2"
      },
      "outputs": [],
      "source": [
        "%pip install pyDOE"
      ],
      "id": "_W6EPITRCol2"
    },
    {
      "cell_type": "code",
      "execution_count": null,
      "metadata": {
        "id": "Z0BCE4oOMSGv"
      },
      "outputs": [],
      "source": [
        "%pip install tensorflow-addons"
      ],
      "id": "Z0BCE4oOMSGv"
    },
    {
      "cell_type": "code",
      "execution_count": 4,
      "metadata": {
        "id": "vyiGibcACqQ6"
      },
      "outputs": [],
      "source": [
        "import os\n",
        "import pickle\n",
        "import random\n",
        "import time\n",
        "\n",
        "import numpy as np\n",
        "from matplotlib import pyplot as plt\n",
        "import seaborn as sns\n",
        "from pyDOE import lhs\n",
        "import ipywidgets as widgets\n",
        "\n",
        "import tensorflow as tf\n",
        "from tensorflow.keras import Model\n",
        "from tensorflow.keras.layers import Dense\n",
        "from tensorflow.keras.layers import Dropout\n",
        "from tensorflow.keras import regularizers\n",
        "from tensorflow.keras.layers import BatchNormalization\n",
        "\n",
        "tf.compat.v1.logging.set_verbosity(tf.compat.v1.logging.FATAL)"
      ],
      "id": "vyiGibcACqQ6"
    },
    {
      "cell_type": "code",
      "execution_count": null,
      "metadata": {
        "id": "ukm489hctX2w"
      },
      "outputs": [],
      "source": [
        "if tf.test.is_gpu_available():\n",
        "    print(\"GPU available\")\n",
        "    print(\"GPU:\", tf.config.list_physical_devices(\"GPU\"))\n",
        "else:\n",
        "    print(\"GPU is not avaulable\")"
      ],
      "id": "ukm489hctX2w"
    },
    {
      "cell_type": "markdown",
      "metadata": {
        "id": "5pD4A9LMJQQB"
      },
      "source": [
        "### NN"
      ],
      "id": "5pD4A9LMJQQB"
    },
    {
      "cell_type": "code",
      "execution_count": 5,
      "metadata": {
        "id": "f6f4797a"
      },
      "outputs": [],
      "source": [
        "class PINN(Model):\n",
        "    def __init__(self, output_dim, num_hidden_layers, num_neurons_per_layer, activation, kernel_initializer, dropout_rate, l2_lambda, **kwargs):\n",
        "        super().__init__(**kwargs)\n",
        "        self.num_hidden_layers = num_hidden_layers\n",
        "        self.output_dim = output_dim\n",
        "        self.hidden = [\n",
        "            [\n",
        "                Dense(\n",
        "                    num_neurons_per_layer,\n",
        "                    activation=tf.keras.activations.get(activation),\n",
        "                    kernel_initializer=kernel_initializer,\n",
        "                    # this just didn't help at all\n",
        "                    #kernel_regularizer=regularizers.l2(l2_lambda)\n",
        "                ),\n",
        "                #BatchNormalization(),\n",
        "                #Dropout(dropout_rate)\n",
        "            ]\n",
        "            for _ in range(self.num_hidden_layers)\n",
        "        ]\n",
        "        self.out = Dense(output_dim)\n",
        "\n",
        "    def call(self, inputs):\n",
        "        x = inputs\n",
        "        for i in range(self.num_hidden_layers):\n",
        "            x = self.hidden[i][0](x)\n",
        "            #x = self.hidden[i][1](x)\n",
        "            #x = self.hidden[i][2](x)\n",
        "        return self.out(x)\n"
      ],
      "id": "f6f4797a"
    },
    {
      "cell_type": "markdown",
      "metadata": {
        "id": "b2dbf18b"
      },
      "source": [
        "### PINN Solver for PDE"
      ],
      "id": "b2dbf18b"
    },
    {
      "cell_type": "code",
      "execution_count": 6,
      "metadata": {
        "id": "KZSa7GB0KJ_V"
      },
      "outputs": [],
      "source": [
        "def PicsInProcess(xmin, xmax, ymin, ymax, field_MIXED, s=2, alpha=0.5, marker='o', filename=f\"uvp.png\"):\n",
        "\n",
        "    [x_MIXED, y_MIXED, u_MIXED, v_MIXED, p_MIXED] = field_MIXED\n",
        "\n",
        "    fig, ax = plt.subplots(nrows=3, ncols=2, figsize=(7, 4))\n",
        "    fig.subplots_adjust(hspace=0.2, wspace=0.2)\n",
        "    def add_step_lines(ax):\n",
        "            ax.plot([1.0, 1.5], [0.21, 0.21], color='black', linewidth=2) # lower horizontal line\n",
        "            ax.plot([0.55, 1.0], [0, 0.21], color='black', linewidth=2) # vertical line\n",
        "\n",
        "    # Define a function to filter points outside the channel\n",
        "    def filter_points(x, y, u, v, p):\n",
        "        mask = np.logical_or((x < 1.0) & (y <= 0.41), (x >= 1.0) & (y > 0.21))\n",
        "        return x[mask], y[mask], u[mask], v[mask], p[mask]\n",
        "\n",
        "    # Filter points outside the channel\n",
        "    x_MIXED, y_MIXED, u_MIXED, v_MIXED, p_MIXED = filter_points(x_MIXED, y_MIXED, u_MIXED, v_MIXED, p_MIXED)\n",
        "\n",
        "\n",
        "    # Plot MIXED result\n",
        "    cf = ax[0, 0].scatter(x_MIXED, y_MIXED, c=u_MIXED, alpha=alpha-0.1, edgecolors='none', cmap='rainbow', marker=marker, s=int(s))\n",
        "    ax[0, 0].axis('square')\n",
        "    for key, spine in ax[0, 0].spines.items():\n",
        "        if key in ['right','top','left','bottom']:\n",
        "            spine.set_visible(False)\n",
        "    ax[0, 0].set_xticks([])\n",
        "    ax[0, 0].set_yticks([])\n",
        "    ax[0, 0].set_xlim([xmin, xmax])\n",
        "    ax[0, 0].set_ylim([ymin, ymax])\n",
        "\n",
        "    ax[0, 0].set_title(r'$u$ (m/s)')\n",
        "    fig.colorbar(cf, ax=ax[0, 0], fraction=0.046, pad=0.04)\n",
        "\n",
        "    cf = ax[1, 0].scatter(x_MIXED, y_MIXED, c=v_MIXED, alpha=alpha-0.1, edgecolors='none', cmap='rainbow', marker=marker, s=int(s))\n",
        "    ax[1, 0].axis('square')\n",
        "    for key, spine in ax[1, 0].spines.items():\n",
        "        if key in ['right','top','left','bottom']:\n",
        "            spine.set_visible(False)\n",
        "    ax[1, 0].set_xticks([])\n",
        "    ax[1, 0].set_yticks([])\n",
        "    ax[1, 0].set_xlim([xmin, xmax])\n",
        "    ax[1, 0].set_ylim([ymin, ymax])\n",
        "\n",
        "    ax[1, 0].set_title(r'$v$ (m/s)')\n",
        "    fig.colorbar(cf, ax=ax[1, 0], fraction=0.046, pad=0.04)\n",
        "\n",
        "    cf = ax[2, 0].scatter(x_MIXED, y_MIXED, c=p_MIXED, alpha=alpha, edgecolors='none', cmap='rainbow', marker=marker, s=int(s), vmin=-0.25, vmax=4.0)\n",
        "    ax[2, 0].axis('square')\n",
        "    for key, spine in ax[2, 0].spines.items():\n",
        "        if key in ['right','top','left','bottom']:\n",
        "            spine.set_visible(False)\n",
        "    ax[2, 0].set_xticks([])\n",
        "    ax[2, 0].set_yticks([])\n",
        "    ax[2, 0].set_xlim([xmin, xmax])\n",
        "    ax[2, 0].set_ylim([ymin, ymax])\n",
        "\n",
        "    ax[2, 0].set_title('Pressure (Pa)')\n",
        "    fig.colorbar(cf, ax=ax[2, 0], fraction=0.046, pad=0.04)\n",
        "    plt.show()\n",
        "    plt.close('all')"
      ],
      "id": "KZSa7GB0KJ_V"
    },
    {
      "cell_type": "code",
      "execution_count": 7,
      "metadata": {
        "id": "HnEZHFOlFtbh"
      },
      "outputs": [],
      "source": [
        "def plot_Wall_Shear_stress(solver):\n",
        "\n",
        "    import numpy as np\n",
        "    import matplotlib.pyplot as plt\n",
        "\n",
        "    # counting wall shear stress\n",
        "    wall_shear_stress, x_WALL = solver.compute_wall_shear_stress()\n",
        "\n",
        "    x_WALL = x_WALL.numpy()\n",
        "    wall_shear_stress = wall_shear_stress.numpy()\n",
        "    sort_indices = np.argsort(x_WALL.flatten())\n",
        "    x_WALL = x_WALL.flatten()[sort_indices]\n",
        "    wall_shear_stress= wall_shear_stress.flatten()[sort_indices]\n",
        "\n",
        "    plt.figure(figsize=(10, 5))\n",
        "    plt.plot(x_WALL, wall_shear_stress, label='Wall Shear Stress')\n",
        "    plt.xlabel('x')\n",
        "    plt.ylabel('Shear stress')\n",
        "    plt.legend()\n",
        "\n",
        "    # saving the plot\n",
        "    plt.savefig('wall_shear_stress.png')\n",
        "\n",
        "    # saving it in txt\n",
        "    np.savetxt('wall_shear_stress.txt', np.column_stack((x_WALL, wall_shear_stress)))"
      ],
      "id": "HnEZHFOlFtbh"
    },
    {
      "cell_type": "code",
      "execution_count": 8,
      "metadata": {
        "id": "jHcoeLffFg7R"
      },
      "outputs": [],
      "source": [
        "#saves model in zip, plots wall shear stress, also loss history in pickle\n",
        "def saveNN(solver):\n",
        "    solver.model.save(\"saved_model\")\n",
        "    !zip -r /content/saved_model.zip /content/saved_model\n",
        "    losses_per_iteration = solver.get_losses_per_iteration()\n",
        "    with open(f'losses_history.pickle', 'wb') as f:\n",
        "        pickle.dump(losses_per_iteration, f)\n",
        "    plot_Wall_Shear_stress(solver)"
      ],
      "id": "jHcoeLffFg7R"
    },
    {
      "cell_type": "code",
      "execution_count": 9,
      "metadata": {
        "id": "51a3deb0"
      },
      "outputs": [],
      "source": [
        "class PINNSolver():\n",
        "\n",
        "    def __init__(self, model, Collo, INLET, OUTLET, WALL, mu=0.02, beta=2, data = None, alpha = 1):\n",
        "\n",
        "        self.losses_per_iteration = []\n",
        "        self.model = model\n",
        "        self.beta = beta\n",
        "        #coef for data\n",
        "        self.alpha = alpha\n",
        "        # Store math constants\n",
        "        self.rho = 1.0\n",
        "        self.mu = mu\n",
        "\n",
        "        # Store collocation points\n",
        "        self.x_c = Collo[:, 0:1]\n",
        "        self.y_c = Collo[:, 1:2]\n",
        "\n",
        "        # if data was provided for solver we initialise the following variables\n",
        "        if data is not None:\n",
        "            self.x_data = data[\"    x-coordinate\"].values\n",
        "            self.y_data = data[\"    y-coordinate\"].values\n",
        "            self.x_data = tf.convert_to_tensor(self.x_data, dtype=tf.float32)\n",
        "            self.y_data = tf.convert_to_tensor(self.y_data, dtype=tf.float32)\n",
        "            self.x_data = tf.reshape(self.x_data, (-1, 1))\n",
        "            self.y_data = tf.reshape(self.y_data, (-1, 1))\n",
        "            self.u_data = data[\"      x-velocity\"].values\n",
        "            self.v_data = data[\"      y-velocity\"].values\n",
        "            self.p_data = data[\"        pressure\"].values\n",
        "\n",
        "        # Store inlet points\n",
        "        self.x_INLET = INLET[:, 0:1]\n",
        "        self.y_INLET = INLET[:, 1:2]\n",
        "        self.u_INLET = INLET[:, 2:3]\n",
        "        self.v_INLET = INLET[:, 3:4]\n",
        "\n",
        "        # Store outlet points\n",
        "        self.x_OUTLET = OUTLET[:, 0:1]\n",
        "        self.y_OUTLET = OUTLET[:, 1:2]\n",
        "\n",
        "        # Store wall points\n",
        "        self.x_WALL = WALL[:, 0:1]\n",
        "        self.y_WALL = WALL[:, 1:2]\n",
        "\n",
        "        # some variables to plot fields during while the model learns\n",
        "        x_PINN_1 = np.linspace(0, 1.0, 221)\n",
        "        y_PINN_1 = np.linspace(0, 0.21, 101)\n",
        "        x_PINN_2 = np.linspace(1.0, 1.5, 241)\n",
        "        y_PINN_2 = np.linspace(0.21, 0.41, 101)\n",
        "        x_PINN = np.concatenate((x_PINN_1, x_PINN_2))\n",
        "        y_PINN = np.concatenate((y_PINN_1, y_PINN_2))\n",
        "        x_PINN, y_PINN = np.meshgrid(x_PINN, y_PINN)\n",
        "        self.x_PINN = x_PINN.flatten()[:, None]\n",
        "        self.y_PINN = y_PINN.flatten()[:, None]\n",
        "\n",
        "    def compute_total_loss(self):\n",
        "        beta = self.beta\n",
        "\n",
        "        fn_loss = self.get_loss_part(\"fn\")\n",
        "        wall_loss = self.get_loss_part(\"wall\")\n",
        "        inlet_loss = self.get_loss_part(\"inlet\")\n",
        "        outlet_loss = self.get_loss_part(\"outlet\")\n",
        "        data_loss = self.get_loss_part(\"data\")\n",
        "        total_loss = fn_loss + beta * (wall_loss + inlet_loss + outlet_loss) + self.alpha * data_loss\n",
        "        return total_loss\n",
        "\n",
        "\n",
        "    def get_output(self, x, y):\n",
        "        with tf.GradientTape(persistent=True) as tape:\n",
        "            tape.watch([x, y])\n",
        "\n",
        "            psips = self.model(tf.concat([x, y], axis=1))\n",
        "            psi, p, s11, s22, s12 = tf.split(psips, [1, 1, 1, 1, 1], axis=1)\n",
        "            u = tape.gradient(psi, y)\n",
        "            v = -tape.gradient(psi, x)\n",
        "\n",
        "        return psi, p, s11, s22, s12, tape, x, y, u, v\n",
        "\n",
        "\n",
        "    def get_loss_part(self, part):\n",
        "        if part == \"wall\":\n",
        "            _, _, _, _, _, tape, _, _, u, v = self.get_output(x=self.x_WALL, y=self.y_WALL)\n",
        "            loss = tf.reduce_mean(tf.square(u)) + tf.reduce_mean(tf.square(v))\n",
        "        elif part == \"inlet\":\n",
        "            _, _, _, _, _, tape, _, _, u, v = self.get_output(x=self.x_INLET, y=self.y_INLET)\n",
        "            loss = tf.reduce_mean(tf.square(u - self.u_INLET)) + tf.reduce_mean(tf.square(v - self.v_INLET))\n",
        "        elif part == \"outlet\":\n",
        "            _, p, _, _, _, tape, _, _, _, _ = self.get_output(x=self.x_OUTLET, y=self.y_OUTLET)\n",
        "            loss = tf.reduce_mean(tf.square(p))\n",
        "        if part == \"data\":\n",
        "            data_loss = 0\n",
        "            if hasattr(self, 'x_data') and hasattr(self, 'y_data'):\n",
        "                _, p, _, _, _, _, _, _, u, v = self.get_output(self.x_data, self.y_data)\n",
        "                data_loss = tf.reduce_mean(tf.square(u - self.u_data)) + tf.reduce_mean(tf.square(v - self.v_data)) + tf.reduce_mean(tf.square(p - self.p_data))\n",
        "            return data_loss\n",
        "        if part == \"fn\":\n",
        "            psi, p, s11, s22, s12, tape, x, y, u, v = self.get_output(x=self.x_c, y=self.y_c)\n",
        "\n",
        "            u_x, u_y = tape.gradient(u, [x, y])\n",
        "            v_x, v_y = tape.gradient(v, [x, y])\n",
        "\n",
        "            s11_x = tape.gradient(s11, x)\n",
        "            s12_x, s12_y = tape.gradient(s12, [x, y])\n",
        "            s22_y = tape.gradient(s22, y)\n",
        "\n",
        "            # Sigma residuals\n",
        "            r_s11 = -p + 2 * self.mu * u_x - s11\n",
        "            r_s22 = -p + 2 * self.mu * v_y - s22\n",
        "            r_s12 = self.mu * (u_y + v_x) - s12\n",
        "\n",
        "            # Pressure residual\n",
        "            r_p = p + (s11 + s22) / 2\n",
        "\n",
        "            # navier stokes equation residuals\n",
        "            r_u = self.rho * (u * u_x + v * u_y) - s11_x - s12_y\n",
        "            r_v = self.rho * (u * v_x + v * v_y) - s12_x - s22_y\n",
        "\n",
        "            loss = (\n",
        "                tf.reduce_mean(tf.square(r_s11)) +\n",
        "                tf.reduce_mean(tf.square(r_s22)) +\n",
        "                tf.reduce_mean(tf.square(r_s12)) +\n",
        "                tf.reduce_mean(tf.square(r_p)) +\n",
        "                tf.reduce_mean(tf.square(r_u)) +\n",
        "                tf.reduce_mean(tf.square(r_v))\n",
        "            )\n",
        "        del tape\n",
        "        return loss\n",
        "\n",
        "\n",
        "    def solve_with_TFoptimizer(self, optimizer, N):\n",
        "        with tf.device(\"/GPU:0\"):\n",
        "\n",
        "            for iteration in range(N):\n",
        "                with tf.GradientTape(persistent=True) as tape:\n",
        "                    tape.watch(self.model.trainable_variables)\n",
        "                    loss = self.compute_total_loss()\n",
        "                self.losses_per_iteration.append(loss.numpy())\n",
        "                grads = tape.gradient(loss, self.model.trainable_variables)\n",
        "                del tape\n",
        "\n",
        "                optimizer.apply_gradients(zip(grads, self.model.trainable_variables))\n",
        "\n",
        "                print(f\"Iteration: {iteration} || Loss: {loss:.10f}\")\n",
        "                if iteration%1000 == 0:\n",
        "                    psi, p_PINN, s11, s22, s12, tape, x, y, u_PINN, v_PINN = self.get_output(tf.convert_to_tensor(self.x_PINN), tf.convert_to_tensor(self.y_PINN))\n",
        "                    field_MIXED = [self.x_PINN, self.y_PINN, u_PINN, v_PINN, p_PINN]\n",
        "                    PicsInProcess(xmin=0, xmax=1.5, ymin=0, ymax=0.41, field_MIXED=field_MIXED, s=2, alpha=0.5, marker='o', filename=f\"uvp.png\")\n",
        "                if iteration%10_000 == 0 and iteration != 0:\n",
        "                    saveNN(self)\n",
        "\n",
        "    def compute_total_loss_and_gradients(self, X):\n",
        "        with tf.GradientTape() as tape:\n",
        "            loss = self.compute_total_loss()\n",
        "        grads = tape.gradient(loss, self.model.trainable_variables)\n",
        "        return loss, grads\n",
        "\n",
        "    def get_losses_per_iteration(self):\n",
        "        return self.losses_per_iteration\n",
        "\n",
        "    def get_loss_to_data(self, pd_data=None):\n",
        "        data_loss = None\n",
        "        if pd_data is not None:\n",
        "            x_data = pd_data[\"    x-coordinate\"].values.astype(np.float32)\n",
        "            y_data = pd_data[\"    y-coordinate\"].values.astype(np.float32)\n",
        "            x_data = tf.convert_to_tensor(x_data, dtype=tf.float32)\n",
        "            y_data = tf.convert_to_tensor(y_data, dtype=tf.float32)\n",
        "            x_data = tf.reshape(x_data, (-1, 1))\n",
        "            y_data = tf.reshape(y_data, (-1, 1))\n",
        "            u_data = pd_data[\"      x-velocity\"].values.astype(np.float32)\n",
        "            v_data = pd_data[\"      y-velocity\"].values.astype(np.float32)\n",
        "            p_data = pd_data[\"        pressure\"].values.astype(np.float32)\n",
        "            _, p, _, _, _, _, _, _, u, v = self.get_output(x_data, y_data)\n",
        "\n",
        "            u_mae_percent = tf.reduce_mean(tf.abs((u - u_data))) / tf.reduce_max(tf.abs(u_data)) * 100\n",
        "            v_mae_percent = tf.reduce_mean(tf.abs((v - v_data))) / tf.reduce_max(tf.abs(v_data)) * 100\n",
        "            p_mae_percent = tf.reduce_mean(tf.abs((p - p_data))) / tf.reduce_max(tf.abs(p_data)) * 100\n",
        "\n",
        "            print(f\"u_mae_perc: {u_mae_percent}, v_mae_perc: {v_mae_percent}, p_mae_perc: {p_mae_percent}\")\n",
        "            data_loss = u_mae_percent + v_mae_percent + p_mae_percent\n",
        "            return data_loss\n",
        "        return data_loss\n",
        "\n",
        "\n",
        "    def compute_wall_shear_stress(self):\n",
        "        mask = tf.logical_and(self.y_WALL == 0.00, tf.logical_and(self.x_WALL >= 0, self.x_WALL <= 1))\n",
        "        x_WALL = tf.boolean_mask(self.x_WALL, mask)\n",
        "        y_WALL = tf.boolean_mask(self.y_WALL, mask)\n",
        "\n",
        "        x_WALL = tf.reshape(x_WALL, [-1, 1])\n",
        "        y_WALL = tf.reshape(y_WALL, [-1, 1])\n",
        "\n",
        "        with tf.GradientTape(persistent=True) as tape:\n",
        "            tape.watch([x_WALL, y_WALL])\n",
        "            _, _, _, _, _, _, _, _, u, _ = self.get_output(x_WALL, y_WALL)\n",
        "            du_dy = tape.gradient(u, y_WALL)\n",
        "        wall_shear_stress = self.mu * du_dy\n",
        "        return wall_shear_stress, x_WALL\n"
      ],
      "id": "51a3deb0"
    },
    {
      "cell_type": "markdown",
      "metadata": {
        "id": "f9fc1b94"
      },
      "source": [
        "## Setup"
      ],
      "id": "f9fc1b94"
    },
    {
      "cell_type": "markdown",
      "metadata": {
        "id": "b2223da7"
      },
      "source": [
        "### Network Setup"
      ],
      "id": "b2223da7"
    },
    {
      "cell_type": "markdown",
      "metadata": {
        "id": "qV0q1jRcDi8_"
      },
      "source": [
        "### New Model"
      ],
      "id": "qV0q1jRcDi8_"
    },
    {
      "cell_type": "code",
      "execution_count": 10,
      "metadata": {
        "id": "47E9iwogwGaP"
      },
      "outputs": [],
      "source": [
        "output_dim = 5\n",
        "num_hidden_layers = 8\n",
        "num_neurons_per_layer = 40\n",
        "activation = 'tanh'\n",
        "kernel_initializer = 'glorot_uniform'"
      ],
      "id": "47E9iwogwGaP"
    },
    {
      "cell_type": "code",
      "execution_count": 11,
      "metadata": {
        "id": "830050b9"
      },
      "outputs": [],
      "source": [
        "model = PINN(output_dim, num_hidden_layers, num_neurons_per_layer, activation, kernel_initializer, dropout_rate=0.5, l2_lambda=0.1)\n",
        "model.build(input_shape=(None, 2))"
      ],
      "id": "830050b9"
    },
    {
      "cell_type": "markdown",
      "metadata": {
        "id": "Eh4aq6d2DmZ3"
      },
      "source": [
        "### Loading Model"
      ],
      "id": "Eh4aq6d2DmZ3"
    },
    {
      "cell_type": "code",
      "source": [
        "#!gdown 1QkKu7t_9Mad52eGIJu88pPsdcNKVdGe- #Re=14_Iters=260_000_hid=8_neurons=40\n",
        "#!gdown 1rB2PTazlkO70Lei5WZ3YYZ2z33jfs09b #Re=100_iters=90_000_hid=8_neurons=40"
      ],
      "metadata": {
        "id": "-i2moU9Iu8Q5"
      },
      "id": "-i2moU9Iu8Q5",
      "execution_count": null,
      "outputs": []
    },
    {
      "cell_type": "code",
      "execution_count": null,
      "metadata": {
        "id": "7qvdBZf0DpCr"
      },
      "outputs": [],
      "source": [
        "!unzip saved_model.zip"
      ],
      "id": "7qvdBZf0DpCr"
    },
    {
      "cell_type": "code",
      "execution_count": null,
      "metadata": {
        "id": "gq7IsWJuDsJz"
      },
      "outputs": [],
      "source": [
        "model = tf.keras.models.load_model(\"/content/saved_model\")"
      ],
      "id": "gq7IsWJuDsJz"
    },
    {
      "cell_type": "markdown",
      "metadata": {
        "id": "8093a912"
      },
      "source": [
        "### Solver Setup"
      ],
      "id": "8093a912"
    },
    {
      "cell_type": "code",
      "execution_count": 12,
      "metadata": {
        "id": "c8499228"
      },
      "outputs": [],
      "source": [
        "# Domain bounds\n",
        "lb = np.array([0, 0])\n",
        "ub = np.array([1.5, 0.41])\n",
        "\n",
        "#WALLS\n",
        "wall_step_up = [1.0, 0.0] + [0.0, 0.21] * lhs(2, 201).astype(np.float32)\n",
        "wall_step_right = [1.0, 0.21] + [0.5, 0.0] * lhs(2, 441).astype(np.float32)\n",
        "wall_up = [0.0, 0.41] + [1.5, 0.0] * lhs(2, 441).astype(np.float32)\n",
        "wall_lw = [0.0, 0.00] + [1.0, 0.0] * lhs(2, 441).astype(np.float32)\n",
        "WALL = tf.concat((wall_step_up, wall_step_right, wall_up, wall_lw), axis=0)\n",
        "WALL = tf.cast(WALL, dtype=tf.float32)\n",
        "\n",
        "# INLET\n",
        "INLET = ([0.0, 0.0] + [0.0, 0.41] * lhs(2, 201)).astype(np.float32)\n",
        "U_max = 1.0\n",
        "y_INLET = INLET[:,1:2]\n",
        "u_INLET = 4 * U_max * y_INLET * (0.41 - y_INLET) / (0.41 ** 2)\n",
        "v_INLET = 0 * y_INLET\n",
        "INLET = tf.concat((INLET, u_INLET, v_INLET), axis=1)\n",
        "\n",
        "# OUTLET\n",
        "OUTLET = tf.convert_to_tensor([1.5, 0.21] + [0.0, 0.20] * lhs(2, 201), dtype=tf.float32)"
      ],
      "id": "c8499228"
    },
    {
      "cell_type": "code",
      "execution_count": 13,
      "metadata": {
        "id": "c0b67b08"
      },
      "outputs": [],
      "source": [
        "# Collocation points for equation residual\n",
        "XY_c_before = [0.0, 0.0] + [1.0, 0.41] * lhs(2, 40000).astype(np.float32)\n",
        "XY_c_after = [1.0, 0.21] + [0.5, 0.2] * lhs(2, 10000).astype(np.float32)\n",
        "XY_c = np.concatenate((XY_c_before, XY_c_after), 0)\n",
        "XY_c = tf.concat((XY_c, WALL, OUTLET, INLET[:,0:2]), 0)\n",
        "\n",
        "Collo = XY_c"
      ],
      "id": "c0b67b08"
    },
    {
      "cell_type": "code",
      "execution_count": null,
      "metadata": {
        "id": "c7130d14"
      },
      "outputs": [],
      "source": [
        "# Visualize the collocation points\n",
        "fig, ax = plt.subplots()\n",
        "ax.set_aspect('equal')\n",
        "plt.scatter(XY_c[:,0:1], XY_c[:,1:2], marker='o', alpha=0.1 ,color='blue')\n",
        "plt.scatter(WALL[:,0:1], WALL[:,1:2], marker='o', alpha=0.2 , color='green')\n",
        "plt.scatter(OUTLET[:, 0:1], OUTLET[:, 1:2], marker='o', alpha=0.2, color='orange')\n",
        "plt.scatter(INLET[:, 0:1], INLET[:, 1:2], marker='o', alpha=0.2, color='red')\n",
        "plt.show()"
      ],
      "id": "c7130d14"
    },
    {
      "cell_type": "code",
      "execution_count": null,
      "metadata": {
        "id": "7cVL_2O5DKDu"
      },
      "outputs": [],
      "source": [
        "#!gdown 1S9UMttJSLnCt9qMxZwqPI0p8ta3V1JO- # Re = 10 (mu = 0.02738)\n",
        "!gdown 1vY6l22eNzqvJH7CPPCBEsAC4ddoqHJoU # Re = 14 (mu = 0.02)\n",
        "#!gdown 1IPJkcPMiluQt2B4YqCCnsOl4l6KSlEAu # Re = 50 (mu = 0.005476)\n",
        "#!gdown 1AUkiHKL1b69qCs9UFRg1IAbXvDGQj5_v # Re = 75 (mu = 0.0036507)\n",
        "#!gdown 1DQuGXahCaQ75NBTHzEkJZshGXOFIky4Y # Re = 100 (mu = 0.002738)\n",
        "#!gdown 1zB0R5C0QCSX-05p2mnrzGdPdsVdkDSqr # Re = 250 (mu = 0.0010952)\n",
        "#!gdown 1lJQBfwJcR_mwYx1JDKBhPKSQ6ZCsMA54 # Re = 500 (mu = 0.00054761)"
      ],
      "id": "7cVL_2O5DKDu"
    },
    {
      "cell_type": "code",
      "execution_count": 16,
      "metadata": {
        "id": "8l519pckDK4u"
      },
      "outputs": [],
      "source": [
        "#import pandas as pd\n",
        "#data = pd.read_csv('FluentSolStep.txt')\n",
        "data=None"
      ],
      "id": "8l519pckDK4u"
    },
    {
      "cell_type": "code",
      "execution_count": 17,
      "metadata": {
        "id": "5OnZlvw-DPMP"
      },
      "outputs": [],
      "source": [
        "solver = PINNSolver(model, Collo, INLET, OUTLET,  WALL, mu = 0.02, beta=2, data=data, alpha=1)\n",
        "# last_loss = solver.compute_total_loss()\n",
        "# print(f\"Last Loss: {last_loss:.10f}\")\n",
        "# df = pd.read_csv('FluentSolStep.txt')\n",
        "# lost_to_data = solver.get_loss_to_data(df)"
      ],
      "id": "5OnZlvw-DPMP"
    },
    {
      "cell_type": "markdown",
      "metadata": {
        "id": "f2b67604"
      },
      "source": [
        "## Learning Process"
      ],
      "id": "f2b67604"
    },
    {
      "cell_type": "code",
      "execution_count": null,
      "metadata": {
        "id": "C_n38-c-W28r"
      },
      "outputs": [],
      "source": [
        "from tensorflow_addons.optimizers import CyclicalLearningRate\n",
        "\n",
        "# Definening min and max learning rate\n",
        "INIT_LR = 1e-5\n",
        "MAX_LR = 1e-2\n",
        "\n",
        "# scaling function for learning rate\n",
        "scale_fn = lambda x: tf.math.exp(-x)\n",
        "#Other Variants:\n",
        "#1\n",
        "#tf.math.exp(-x)\n",
        "#1/(2.**(x-1))\n",
        "\n",
        "#creating clr\n",
        "clr = CyclicalLearningRate(initial_learning_rate=INIT_LR,\n",
        "                           maximal_learning_rate=MAX_LR,\n",
        "                           step_size=2000,\n",
        "                           scale_fn=scale_fn,\n",
        "                           scale_mode='cycle')"
      ],
      "id": "C_n38-c-W28r"
    },
    {
      "cell_type": "code",
      "execution_count": 19,
      "metadata": {
        "id": "BKAHtUssW4yx"
      },
      "outputs": [],
      "source": [
        "optimizer = tf.keras.optimizers.Adamax(learning_rate = clr, beta_1 = 0.9, beta_2=0.999)\n",
        "optim = optimizer"
      ],
      "id": "BKAHtUssW4yx"
    },
    {
      "cell_type": "code",
      "execution_count": null,
      "metadata": {
        "id": "IkKop9LYtVx3"
      },
      "outputs": [],
      "source": [
        "solver.solve_with_TFoptimizer(optim, N=1_001)"
      ],
      "id": "IkKop9LYtVx3"
    },
    {
      "cell_type": "markdown",
      "metadata": {
        "id": "Q-N32Z44C6WJ"
      },
      "source": [
        "## Results Output"
      ],
      "id": "Q-N32Z44C6WJ"
    },
    {
      "cell_type": "code",
      "execution_count": null,
      "metadata": {
        "id": "7YZDC4tRXdU4"
      },
      "outputs": [],
      "source": [
        "#plot loss per iteration\n",
        "import matplotlib.pyplot as plt\n",
        "plt.figure(figsize=(10,5))\n",
        "plt.plot(solver.losses_per_iteration)\n",
        "plt.title('Loss per iteration')\n",
        "plt.yscale('log')\n",
        "plt.xlabel('Iteration')\n",
        "plt.ylabel('Loss')\n",
        "plt.grid(True)\n",
        "plt.show()"
      ],
      "id": "7YZDC4tRXdU4"
    },
    {
      "cell_type": "code",
      "execution_count": null,
      "metadata": {
        "id": "njojvExLVj7n"
      },
      "outputs": [],
      "source": [
        "#!gdown 1S9UMttJSLnCt9qMxZwqPI0p8ta3V1JO- # Re = 10 (mu = 0.02738)\n",
        "!gdown 1vY6l22eNzqvJH7CPPCBEsAC4ddoqHJoU # Re = 14 (mu = 0.02)\n",
        "#!gdown 1IPJkcPMiluQt2B4YqCCnsOl4l6KSlEAu # Re = 50 (mu = 0.005476)\n",
        "#!gdown 1AUkiHKL1b69qCs9UFRg1IAbXvDGQj5_v # Re = 75 (mu = 0.0036507)\n",
        "#!gdown 1DQuGXahCaQ75NBTHzEkJZshGXOFIky4Y # Re = 100 (mu = 0.002738)\n",
        "#!gdown 1zB0R5C0QCSX-05p2mnrzGdPdsVdkDSqr # Re = 250 (mu = 0.0010952)\n",
        "#!gdown 1lJQBfwJcR_mwYx1JDKBhPKSQ6ZCsMA54 # Re = 500 (mu = 0.00054761)"
      ],
      "id": "njojvExLVj7n"
    },
    {
      "cell_type": "code",
      "execution_count": null,
      "metadata": {
        "id": "kyfZmdglW19a"
      },
      "outputs": [],
      "source": [
        "#last loss value\n",
        "last_loss = solver.compute_total_loss()\n",
        "print(f\"Last Loss: {last_loss:.10f}\")"
      ],
      "id": "kyfZmdglW19a"
    },
    {
      "cell_type": "code",
      "source": [
        "#loss to data value (percent summ)\n",
        "import pandas as pd\n",
        "df = pd.read_csv('FluentSolStep.txt')\n",
        "loss_to_data = solver.get_loss_to_data(df)\n",
        "print(loss_to_data)"
      ],
      "metadata": {
        "id": "vW_naNOVieCb"
      },
      "id": "vW_naNOVieCb",
      "execution_count": null,
      "outputs": []
    },
    {
      "cell_type": "code",
      "execution_count": null,
      "metadata": {
        "id": "9xhJq7qdKuC0"
      },
      "outputs": [],
      "source": [
        "#functions to plot the fields\n",
        "\n",
        "def postProcess(xmin, xmax, ymin, ymax, field_FLUENT, field_MIXED, s=2, alpha=0.5, marker='o', filename=f\"uvp.png\"):\n",
        "\n",
        "    [x_FLUENT, y_FLUENT, u_FLUENT, v_FLUENT, p_FLUENT] = field_FLUENT\n",
        "    [x_MIXED, y_MIXED, u_MIXED, v_MIXED, p_MIXED] = field_MIXED\n",
        "\n",
        "    fig, ax = plt.subplots(nrows=3, ncols=2, figsize=(7, 4))\n",
        "    fig.subplots_adjust(hspace=0.2, wspace=0.2)\n",
        "    def add_step_lines(ax):\n",
        "            ax.plot([1.0, 1.5], [0.21, 0.21], color='black', linewidth=2) # lower horizontal line\n",
        "            ax.plot([0.55, 1.0], [0, 0.21], color='black', linewidth=2) # vertical line\n",
        "\n",
        "    # Define a function to filter points outside the channel\n",
        "    def filter_points(x, y, u, v, p):\n",
        "        mask = np.logical_or((x < 1.0) & (y <= 0.41), (x >= 1.0) & (y > 0.21))\n",
        "        return x[mask], y[mask], u[mask], v[mask], p[mask]\n",
        "\n",
        "    # Filter points outside the channel\n",
        "    x_MIXED, y_MIXED, u_MIXED, v_MIXED, p_MIXED = filter_points(x_MIXED, y_MIXED, u_MIXED, v_MIXED, p_MIXED)\n",
        "\n",
        "    #Plot PINN result\n",
        "    cf = ax[0, 0].scatter(x_MIXED, y_MIXED, c=u_MIXED, alpha=alpha-0.1, edgecolors='none', cmap='rainbow', marker=marker, s=int(s))\n",
        "    ax[0, 0].axis('square')\n",
        "    for key, spine in ax[0, 0].spines.items():\n",
        "        if key in ['right','top','left','bottom']:\n",
        "            spine.set_visible(False)\n",
        "    ax[0, 0].set_xticks([])\n",
        "    ax[0, 0].set_yticks([])\n",
        "    ax[0, 0].set_xlim([xmin, xmax])\n",
        "    ax[0, 0].set_ylim([ymin, ymax])\n",
        "    ax[0, 0].set_title(r'$u$ (m/s)')\n",
        "    fig.colorbar(cf, ax=ax[0, 0], fraction=0.046, pad=0.04)\n",
        "\n",
        "    cf = ax[1, 0].scatter(x_MIXED, y_MIXED, c=v_MIXED, alpha=alpha-0.1, edgecolors='none', cmap='rainbow', marker=marker, s=int(s))\n",
        "    ax[1, 0].axis('square')\n",
        "    for key, spine in ax[1, 0].spines.items():\n",
        "        if key in ['right','top','left','bottom']:\n",
        "            spine.set_visible(False)\n",
        "    ax[1, 0].set_xticks([])\n",
        "    ax[1, 0].set_yticks([])\n",
        "    ax[1, 0].set_xlim([xmin, xmax])\n",
        "    ax[1, 0].set_ylim([ymin, ymax])\n",
        "    ax[1, 0].set_title(r'$v$ (m/s)')\n",
        "    fig.colorbar(cf, ax=ax[1, 0], fraction=0.046, pad=0.04)\n",
        "\n",
        "    cf = ax[2, 0].scatter(x_MIXED, y_MIXED, c=p_MIXED, alpha=alpha, edgecolors='none', cmap='rainbow', marker=marker, s=int(s), vmin=-0.25, vmax=4.0)\n",
        "    ax[2, 0].axis('square')\n",
        "    for key, spine in ax[2, 0].spines.items():\n",
        "        if key in ['right','top','left','bottom']:\n",
        "            spine.set_visible(False)\n",
        "    ax[2, 0].set_xticks([])\n",
        "    ax[2, 0].set_yticks([])\n",
        "    ax[2, 0].set_xlim([xmin, xmax])\n",
        "    ax[2, 0].set_ylim([ymin, ymax])\n",
        "    ax[2, 0].set_title('Pressure (Pa)')\n",
        "    fig.colorbar(cf, ax=ax[2, 0], fraction=0.046, pad=0.04)\n",
        "\n",
        "\n",
        "    # Plot FLUENT result\n",
        "    cf = ax[0, 1].scatter(x_FLUENT, y_FLUENT, c=u_FLUENT, alpha=alpha, edgecolors='none', cmap='rainbow', marker=marker, s=s)\n",
        "    ax[0, 1].axis('square')\n",
        "    for key, spine in ax[0, 1].spines.items():\n",
        "        if key in ['right','top','left','bottom']:\n",
        "            spine.set_visible(False)\n",
        "    ax[0, 1].set_xticks([])\n",
        "    ax[0, 1].set_yticks([])\n",
        "    ax[0, 1].set_xlim([xmin, xmax])\n",
        "    ax[0, 1].set_ylim([ymin, ymax])\n",
        "    ax[0, 1].set_title(r'$u$ (m/s)')\n",
        "    fig.colorbar(cf, ax=ax[0, 1], fraction=0.046, pad=0.04)\n",
        "\n",
        "    cf = ax[1, 1].scatter(x_FLUENT, y_FLUENT, c=v_FLUENT, alpha=alpha, edgecolors='none', cmap='rainbow', marker=marker, s=s)\n",
        "    ax[1, 1].axis('square')\n",
        "    for key, spine in ax[1, 1].spines.items():\n",
        "        if key in ['right','top','left','bottom']:\n",
        "            spine.set_visible(False)\n",
        "    ax[1, 1].set_xticks([])\n",
        "    ax[1, 1].set_yticks([])\n",
        "    ax[1, 1].set_xlim([xmin, xmax])\n",
        "    ax[1, 1].set_ylim([ymin, ymax])\n",
        "    ax[1, 1].set_title(r'$v$ (m/s)')\n",
        "    fig.colorbar(cf, ax=ax[1, 1], fraction=0.046, pad=0.04)\n",
        "\n",
        "    cf = ax[2, 1].scatter(x_FLUENT, y_FLUENT, c=p_FLUENT, alpha=alpha, edgecolors='none', cmap='rainbow', marker=marker, s=s, vmin=-0.25, vmax=4.0)\n",
        "    ax[2, 1].axis('square')\n",
        "    for key, spine in ax[2, 1].spines.items():\n",
        "        if key in ['right','top','left','bottom']:\n",
        "            spine.set_visible(False)\n",
        "    ax[2, 1].set_xticks([])\n",
        "    ax[2, 1].set_yticks([])\n",
        "    ax[2, 1].set_xlim([xmin, xmax])\n",
        "    ax[2, 1].set_ylim([ymin, ymax])\n",
        "    ax[2, 1].set_title('Pressure (Pa)')\n",
        "    fig.colorbar(cf, ax=ax[2, 1], fraction=0.046, pad=0.04)\n",
        "\n",
        "    plt.savefig(f'./{filename}', dpi=300)\n",
        "    plt.show()\n",
        "    plt.close('all')\n",
        "\n",
        "def preprocess(dir='FluentSolStep.txt'):\n",
        "    import pandas as pd\n",
        "    import numpy as np\n",
        "    import matplotlib.pyplot as plt\n",
        "    from scipy.interpolate import griddata\n",
        "\n",
        "    df = pd.read_csv('FluentSolStep.txt')\n",
        "    x = df[\"    x-coordinate\"].values\n",
        "    y = df[\"    y-coordinate\"].values\n",
        "    u = df[\"      x-velocity\"].values\n",
        "    v = df[\"      y-velocity\"].values\n",
        "    p = df[\"        pressure\"].values\n",
        "\n",
        "    # Define a regular grid of points to interpolate to\n",
        "    xi = np.linspace(x.min(), x.max(), 100)\n",
        "    yi = np.linspace(y.min(), y.max(), 100)\n",
        "    X, Y = np.meshgrid(xi, yi)\n",
        "\n",
        "    # Interpolate the u, v and p values to the regular grid\n",
        "    U = griddata((x, y), u, (X, Y), method='cubic')\n",
        "    V = griddata((x, y), v, (X, Y), method='cubic')\n",
        "    P = griddata((x, y), p, (X, Y), method='cubic')\n",
        "    return x, y, u, v, p"
      ],
      "id": "9xhJq7qdKuC0"
    },
    {
      "cell_type": "code",
      "execution_count": null,
      "metadata": {
        "id": "g-I7skppLLhk"
      },
      "outputs": [],
      "source": [
        "[x_FLUENT, y_FLUENT, u_FLUENT, v_FLUENT, p_FLUENT] = preprocess(dir='./FluentSolStep.txt')\n",
        "field_FLUENT = [x_FLUENT, y_FLUENT, u_FLUENT, v_FLUENT, p_FLUENT]\n",
        "\n",
        "x_PINN_1 = np.linspace(0, 1.0, 221)\n",
        "y_PINN_1 = np.linspace(0, 0.21, 101)\n",
        "x_PINN_2 = np.linspace(1.0, 1.5, 241)\n",
        "y_PINN_2 = np.linspace(0.21, 0.41, 101)\n",
        "x_PINN = np.concatenate((x_PINN_1, x_PINN_2))\n",
        "y_PINN = np.concatenate((y_PINN_1, y_PINN_2))\n",
        "x_PINN, y_PINN = np.meshgrid(x_PINN, y_PINN)\n",
        "x_PINN = x_PINN.flatten()[:, None]\n",
        "y_PINN = y_PINN.flatten()[:, None]"
      ],
      "id": "g-I7skppLLhk"
    },
    {
      "cell_type": "code",
      "execution_count": null,
      "metadata": {
        "id": "2aYez50Kw3Tp"
      },
      "outputs": [],
      "source": [
        "psi, p_PINN, s11, s22, s12, tape, x, y, u_PINN, v_PINN = solver.get_output(tf.convert_to_tensor(x_PINN), tf.convert_to_tensor(y_PINN))\n",
        "field_MIXED = [x_PINN, y_PINN, u_PINN, v_PINN, p_PINN]\n",
        "postProcess(xmin=0, xmax=1.5, ymin=0, ymax=0.41, field_FLUENT=field_FLUENT, field_MIXED=field_MIXED, s=3, alpha=0.5, filename=f\"uvp_step.png\")"
      ],
      "id": "2aYez50Kw3Tp"
    },
    {
      "cell_type": "code",
      "execution_count": null,
      "metadata": {
        "id": "IB0CV6_pFoGA"
      },
      "outputs": [],
      "source": [
        "plot_Wall_Shear_stress(solver)"
      ],
      "id": "IB0CV6_pFoGA"
    }
  ],
  "metadata": {
    "accelerator": "GPU",
    "colab": {
      "provenance": []
    },
    "kernelspec": {
      "display_name": "Python 3",
      "name": "python3"
    },
    "language_info": {
      "name": "python"
    },
    "notebookId": "c2358549-83e7-4e26-8f37-bd5c7f80b230",
    "notebookPath": "PINN.ipynb"
  },
  "nbformat": 4,
  "nbformat_minor": 5
}